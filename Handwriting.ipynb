{
 "cells": [
  {
   "cell_type": "code",
   "execution_count": 20,
   "id": "d6adcdf1-8b06-4372-8cdf-f25a5c8e975b",
   "metadata": {},
   "outputs": [],
   "source": [
    "##!pip install torch\n",
    "import torch\n",
    "import matplotlib\n",
    "##!pip install torchvision\n",
    "import torchvision \n",
    "import torchvision.transforms as transforms\n",
    "import torch.nn as nn\n",
    "import torch.nn.functional as F"
   ]
  },
  {
   "cell_type": "code",
   "execution_count": 19,
   "id": "cd277175-f925-413d-81fe-1fac47ea4599",
   "metadata": {},
   "outputs": [],
   "source": [
    "transform = transforms.Compose([\n",
    "    transforms.ToTensor(),  \n",
    "    transforms.Normalize((0.5,), (0.5,))  # Normalize to range [-1, 1]\n",
    "])\n",
    "\n",
    "Train_Set = torchvision.datasets.MNIST(r'C:\\Users\\samev\\OneDrive\\Coding\\Machine Learning', download=True, transform=transform, train=True)\n",
    "Train_data_loader = torch.utils.data.DataLoader(Train_Set,batch_size=64,shuffle=True)\n",
    "\n",
    "Test_Set = torchvision.datasets.MNIST(r'C:\\Users\\samev\\OneDrive\\Coding\\Machine Learning', download=True, transform=transform, train=False)\n",
    "Train_data_loader = torch.utils.data.DataLoader(Train_Set,batch_size=64,shuffle=True)\n"
   ]
  },
  {
   "cell_type": "raw",
   "id": "5b19e1db-8078-420c-9905-f0a2a5e0ec60",
   "metadata": {},
   "source": [
    "Below is chatgpt code"
   ]
  },
  {
   "cell_type": "code",
   "execution_count": 22,
   "id": "a2d1b09b-3633-4ab4-83ca-3e005e5bcf00",
   "metadata": {},
   "outputs": [],
   "source": [
    "class SimpleNN(nn.Module):\n",
    "    def __init__(self):\n",
    "        super(SimpleNN, self).__init__()\n",
    "        \n",
    "        # 1. Input Layer Decision:\n",
    "        # Each MNIST image is 28x28 pixels, which we flatten into 784 features.\n",
    "        # We map these 784 features to a hidden layer.\n",
    "        self.fc1 = nn.Linear(784, 128)  # 784 input features to 128 neurons.\n",
    "        # Choosing 128 neurons is a common starting point for balancing model capacity and training speed.\n",
    "        \n",
    "        # 2. Hidden Layer(s):\n",
    "        # We add a second hidden layer to allow the network to learn more complex patterns.\n",
    "        self.fc2 = nn.Linear(128, 64)  # Reducing dimensionality from 128 to 64 neurons.\n",
    "        # This reduction helps the model learn hierarchical representations.\n",
    "        \n",
    "        # 3. Output Layer:\n",
    "        # The task is to classify images into 10 classes (digits 0-9).\n",
    "        # Therefore, the output layer has 10 neurons.\n",
    "        self.fc3 = nn.Linear(64, 10)  # Mapping 64 features to 10 output classes.\n",
    "\n",
    "    def forward(self, x):\n",
    "        # 4. Flattening:\n",
    "        # The input x comes in shape [batch_size, 1, 28, 28]. We flatten it to [batch_size, 784].\n",
    "        x = x.view(x.size(0), -1)\n",
    "        \n",
    "        # 5. First Hidden Layer + Activation:\n",
    "        # Applying a linear transformation followed by ReLU activation introduces non-linearity.\n",
    "        x = F.relu(self.fc1(x))\n",
    "        \n",
    "        # 6. Second Hidden Layer + Activation:\n",
    "        # Again, we transform the data and apply ReLU.\n",
    "        x = F.relu(self.fc2(x))\n",
    "        \n",
    "        # 7. Output Layer:\n",
    "        # The final linear layer outputs raw scores (logits) for each of the 10 classes.\n",
    "        # We typically apply softmax later (or incorporate it in the loss function, like with CrossEntropyLoss).\n",
    "        x = self.fc3(x)\n",
    "        return x"
   ]
  },
  {
   "cell_type": "code",
   "execution_count": null,
   "id": "624a4c81-4d97-4c7a-a289-677a5fde16c8",
   "metadata": {},
   "outputs": [],
   "source": []
  }
 ],
 "metadata": {
  "kernelspec": {
   "display_name": "Python 3 (ipykernel)",
   "language": "python",
   "name": "python3"
  },
  "language_info": {
   "codemirror_mode": {
    "name": "ipython",
    "version": 3
   },
   "file_extension": ".py",
   "mimetype": "text/x-python",
   "name": "python",
   "nbconvert_exporter": "python",
   "pygments_lexer": "ipython3",
   "version": "3.10.11"
  }
 },
 "nbformat": 4,
 "nbformat_minor": 5
}
