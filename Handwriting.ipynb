{
 "cells": [
  {
   "cell_type": "code",
   "execution_count": 23,
   "id": "d6adcdf1-8b06-4372-8cdf-f25a5c8e975b",
   "metadata": {},
   "outputs": [],
   "source": [
    "##!pip install torch\n",
    "import torch\n",
    "import matplotlib \n",
    "import matplotlib.pyplot as plt\n",
    "import numpy as np\n",
    "##!pip install torchvision\n",
    "import torchvision \n",
    "import torchvision.transforms as transforms\n",
    "import torch.nn as nn\n",
    "import torch.nn.functional as F\n",
    "import torch.optim as optim\n",
    "import random as r"
   ]
  },
  {
   "cell_type": "code",
   "execution_count": 3,
   "id": "cd277175-f925-413d-81fe-1fac47ea4599",
   "metadata": {},
   "outputs": [],
   "source": [
    "transform = transforms.Compose([\n",
    "    transforms.ToTensor(),  \n",
    "    transforms.Normalize((0.5,), (0.5,))  # Normalize to range [-1, 1]\n",
    "])\n",
    "\n",
    "Train_Set = torchvision.datasets.MNIST(r'C:\\Users\\samev\\OneDrive\\Coding\\Machine Learning\\Handwriting_Recognition', download=True, transform=transform, train=True)\n",
    "Train_data_loader = torch.utils.data.DataLoader(Train_Set,batch_size=64,shuffle=True)\n",
    "\n",
    "Test_Set = torchvision.datasets.MNIST(r'C:\\Users\\samev\\OneDrive\\Coding\\Machine Learning\\Handwriting_Recognition', download=True, transform=transform, train=False)\n",
    "Train_data_loader = torch.utils.data.DataLoader(Train_Set,batch_size=64,shuffle=True)\n"
   ]
  },
  {
   "cell_type": "code",
   "execution_count": 4,
   "id": "a2d1b09b-3633-4ab4-83ca-3e005e5bcf00",
   "metadata": {},
   "outputs": [],
   "source": [
    "class SimpleNN(nn.Module):\n",
    "    def __init__(self):\n",
    "        super(SimpleNN, self).__init__()\n",
    "        \n",
    "        # 1. Input Layer Decision:\n",
    "        # Each MNIST image is 28x28 pixels, which we flatten into 784 features.\n",
    "        # We map these 784 features to a hidden layer.\n",
    "        self.fc1 = nn.Linear(784, 128)  # 784 input features to 128 neurons.\n",
    "        # Choosing 128 neurons is a common starting point for balancing model capacity and training speed.\n",
    "        \n",
    "        # 2. Hidden Layer(s):\n",
    "        # We add a second hidden layer to allow the network to learn more complex patterns.\n",
    "        self.fc2 = nn.Linear(128, 64)  # Reducing dimensionality from 128 to 64 neurons.\n",
    "        # This reduction helps the model learn hierarchical representations.\n",
    "        \n",
    "        # 3. Output Layer:\n",
    "        # The task is to classify images into 10 classes (digits 0-9).\n",
    "        # Therefore, the output layer has 10 neurons.\n",
    "        self.fc3 = nn.Linear(64, 10)  # Mapping 64 features to 10 output classes.\n",
    "\n",
    "    def forward(self, x):\n",
    "        # 4. Flattening:\n",
    "        # The input x comes in shape [batch_size, 1, 28, 28]. We flatten it to [batch_size, 784].\n",
    "        x = x.view(x.size(0), -1)\n",
    "        \n",
    "        # 5. First Hidden Layer + Activation:\n",
    "        # Applying a linear transformation followed by ReLU activation introduces non-linearity.\n",
    "        x = F.relu(self.fc1(x))\n",
    "        \n",
    "        # 6. Second Hidden Layer + Activation:\n",
    "        # Again, we transform the data and apply ReLU.\n",
    "        x = F.relu(self.fc2(x))\n",
    "        \n",
    "        # 7. Output Layer:\n",
    "        # The final linear layer outputs raw scores (logits) for each of the 10 classes.\n",
    "        # We typically apply softmax later (or incorporate it in the loss function, like with CrossEntropyLoss).\n",
    "        x = self.fc3(x)\n",
    "        return x"
   ]
  },
  {
   "cell_type": "code",
   "execution_count": 8,
   "id": "624a4c81-4d97-4c7a-a289-677a5fde16c8",
   "metadata": {},
   "outputs": [],
   "source": [
    "model = SimpleNN()\n",
    "\n",
    "# Define the loss function. CrossEntropyLoss is appropriate for multi-class classification.\n",
    "criterion = nn.CrossEntropyLoss()\n",
    "\n",
    "# Choose an optimizer (Adam in this case) to update model weights.\n",
    "optimizer = optim.Adam(model.parameters(), lr=0.001)\n",
    "\n",
    "# ------------------------------\n",
    "# Step 3: Train the Model\n",
    "# ------------------------------\n",
    "\n",
    "num_epochs = 5  # You can adjust this based on your needs\n",
    "\n",
    "for epoch in range(num_epochs):\n",
    "    model.train()  # Set the model to training mode\n",
    "    running_loss = 0.0\n",
    "\n",
    "    # Iterate over the training DataLoader\n",
    "    for images, labels in Train_data_loader:\n",
    "        # Zero the parameter gradients to avoid accumulating them\n",
    "        optimizer.zero_grad()\n",
    "\n",
    "        # Forward pass: compute predicted outputs by passing inputs to the model.\n",
    "        outputs = model(images)\n",
    "\n",
    "        # Compute the loss between predicted outputs and actual labels.\n",
    "        loss = criterion(outputs, labels)\n",
    "\n",
    "        # Backward pass: compute gradient of the loss with respect to model parameters.\n",
    "        loss.backward()\n",
    "\n",
    "        # Update model parameters using the gradients.\n",
    "        optimizer.step()\n",
    "\n",
    "        running_loss += loss.item()"
   ]
  },
  {
   "cell_type": "code",
   "execution_count": 41,
   "id": "3f44be15-d431-4caa-a64e-5bd8dc7f3772",
   "metadata": {},
   "outputs": [],
   "source": [
    "def predict():\n",
    "    index = r.randint(0, len(Test_Set)-1)\n",
    "    sample_img, sample_label = Test_Set[index]\n",
    "    image_np = sample_img.numpy().squeeze()\n",
    "    plt.imshow(image_np, cmap=\"gray\")  # Use 'gray' colormap for grayscale images\n",
    "    \n",
    "    plt.axis(\"off\")  # Hide axis for better visualization\n",
    "    \n",
    "    \n",
    "    \n",
    "    # The model expects a batch dimension, so we add one using unsqueeze.\n",
    "    sample_img = sample_img.unsqueeze(0)  # Shape: [1, 1, 28, 28]\n",
    "    \n",
    "    # Make a prediction\n",
    "    model.eval()  \n",
    "    with torch.no_grad():\n",
    "        output = model(sample_img)\n",
    "        # Get the predicted class (digit) by finding the index with the highest output score.\n",
    "        _, predicted_label = torch.max(output, 1)\n",
    "    \n",
    "    print(f\"Predicted: {predicted_label.item()}, Actual: {sample_label}\")\n",
    "    plt.title(f\"Actual: {sample_label}, Predicted: {predicted_label.item()}\")\n",
    "    plt.show()"
   ]
  },
  {
   "cell_type": "code",
   "execution_count": 50,
   "id": "36a343ee-7872-4858-b8c7-780ea9e96904",
   "metadata": {},
   "outputs": [
    {
     "name": "stdout",
     "output_type": "stream",
     "text": [
      "Predicted: 0, Actual: 0\n"
     ]
    },
    {
     "data": {
      "image/png": "[encoded data removed]",
      "text/plain": [
       "<Figure size 640x480 with 1 Axes>"
      ]
     },
     "metadata": {},
     "output_type": "display_data"
    }
   ],
   "source": [
    "predict()"
   ]
  },
  {
   "cell_type": "code",
   "execution_count": null,
   "id": "9e08b984-1aa1-42f6-84ac-78fcf8f792ca",
   "metadata": {},
   "outputs": [],
   "source": []
  }
 ],
 "metadata": {
  "kernelspec": {
   "display_name": "Python 3 (ipykernel)",
   "language": "python",
   "name": "python3"
  },
  "language_info": {
   "codemirror_mode": {
    "name": "ipython",
    "version": 3
   },
   "file_extension": ".py",
   "mimetype": "text/x-python",
   "name": "python",
   "nbconvert_exporter": "python",
   "pygments_lexer": "ipython3",
   "version": "3.10.11"
  }
 },
 "nbformat": 4,
 "nbformat_minor": 5
}
